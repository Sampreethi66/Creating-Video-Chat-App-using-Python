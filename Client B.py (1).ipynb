{
 "cells": [
  {
   "cell_type": "code",
   "execution_count": 1,
   "id": "b70b6110",
   "metadata": {},
   "outputs": [],
   "source": [
    "import cv2\n",
    "import socket\n",
    "import struct\n",
    "import pickle"
   ]
  },
  {
   "cell_type": "code",
   "execution_count": null,
   "id": "bf305bc3",
   "metadata": {},
   "outputs": [],
   "source": [
    "import socket,cv2, pickle,struct, time\n",
    "import threading\n",
    "# create socket\n",
    "s = socket.socket(socket.AF_INET,socket.SOCK_STREAM)\n",
    "def connect_server():\n",
    "    time.sleep(15)\n",
    "    host_ip = '192.168.38.23' \n",
    "    port = 1234\n",
    "    s.connect((host_ip,port)) \n",
    "    data = b\"\"\n",
    "    metadata_size = struct.calcsize(\"Q\")\n",
    "    while True:\n",
    "        while len(data) < metadata_size:\n",
    "            packet = s.recv(4*1024) \n",
    "            if not packet: \n",
    "                break\n",
    "            data+=packet\n",
    "        packed_msg_size = data[:metadata_size]\n",
    "        data = data[metadata_size:]\n",
    "        msg_size = struct.unpack(\"Q\",packed_msg_size)[0]\n",
    "\n",
    "        while len(data) < msg_size:\n",
    "            data += s.recv(4*1024)\n",
    "        frame_data = data[:msg_size]\n",
    "        data  = data[msg_size:]\n",
    "        frame = pickle.loads(frame_data)\n",
    "        cv2.imshow(\"RECEIVING VIDEO\",frame)\n",
    "        key = cv2.waitKey(10) \n",
    "        if key  == 13:\n",
    "            break\n",
    "    s.close()\n",
    "\n",
    "def sender():\n",
    "    host_name  = socket.gethostname()\n",
    "    host_ip = socket.gethostbyname(host_name)\n",
    "    print('HOST IP:',host_ip)\n",
    "    port = 1234\n",
    "    socket_address = (host_ip,port)\n",
    "    # Socket Bind\n",
    "    s.bind(socket_address)\n",
    "    # Socket Listen\n",
    "    s.listen(5)\n",
    "    print(\"LISTENING AT:\",socket_address)\n",
    "    while True:\n",
    "        client_socket,addr = s.accept()\n",
    "        print('GOT CONNECTION FROM:',addr)\n",
    "        if client_socket:\n",
    "            vid = cv2.VideoCapture(1)\n",
    "\n",
    "            while(vid.isOpened()):\n",
    "                ret,image = vid.read()\n",
    "                img_serialize = pickle.dumps(image)\n",
    "                message = struct.pack(\"Q\",len(img_serialize))+img_serialize\n",
    "                client_socket.sendall(message)\n",
    "\n",
    "                cv2.imshow('VIDEO FROM SERVER',image)\n",
    "                key = cv2.waitKey(10) \n",
    "                if key ==13:\n",
    "                    client_socket.close()\n",
    "\n",
    "\n",
    "x1 = threading.Thread(target=connect_server)\n",
    "x2 = threading.Thread(target=sender)\n",
    "\n",
    "\n",
    "x1.start()\n",
    "x2.start()"
   ]
  },
  {
   "cell_type": "code",
   "execution_count": null,
   "id": "4f6c4ff3",
   "metadata": {},
   "outputs": [],
   "source": [
    "#Converting this image to bytes format \n",
    "import pickle\n",
    "photo_serialize=pickle.dumps(photo)"
   ]
  }
 ],
 "metadata": {
  "kernelspec": {
   "display_name": "Python 3",
   "language": "python",
   "name": "python3"
  },
  "language_info": {
   "codemirror_mode": {
    "name": "ipython",
    "version": 3
   },
   "file_extension": ".py",
   "mimetype": "text/x-python",
   "name": "python",
   "nbconvert_exporter": "python",
   "pygments_lexer": "ipython3",
   "version": "3.8.8"
  }
 },
 "nbformat": 4,
 "nbformat_minor": 5
}
